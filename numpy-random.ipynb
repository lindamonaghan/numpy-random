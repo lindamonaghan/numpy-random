{
 "cells": [
  {
   "cell_type": "markdown",
   "metadata": {},
   "source": [
    "# This is a numpy.random investigation"
   ]
  },
  {
   "cell_type": "markdown",
   "metadata": {},
   "source": [
    "# NumPy Package Investigation ( add in the numpy logo from the website)\n",
    "# Fundamentals of Data Analystics Project - November 11th 2018"
   ]
  },
  {
   "cell_type": "markdown",
   "metadata": {},
   "source": [
    "# 1. Explain the overall purpose of the package.\n",
    "\n",
    "### Introduction\n",
    "The numPy.random package is a sub package of the NumPy package in Python. The numPy.random package is also known as Random Sampling. \n",
    "NumPy is really important package due to the fact that a lot of other packages depend on it. Interacting with numPy directly is not that commmon, it is used most via sub packages. One would typically interact with numPy objects through other packages such as Pandas or SciPy or another scientific package. \n",
    "The numPy.random package specifically is about generating random numbers. There are multiple ways to generate pseudorandom numbers with the numPy.random package.\n",
    "This notebook will detail what the over numPy package is about and then delve deeper into the numpy.random package specifically.\n",
    "\n",
    "### What is NumPy?\n",
    "\n",
    "There is a lot of documentation about the numPy package available online.\n",
    "\n",
    "The numPy documentation itself says that \"NumPy is the fundamental package for scientific computing in Python. It is a Python library that provides a multidimensional array object, various derived objects (such as masked arrays and matrices), and an assortment of routines for fast operations on arrays, including mathematical, logical, shape manipulation, sorting, selecting, I/O, discrete Fourier transforms, basic linear algebra, basic statistical operations, random simulation and much more\". \n",
    "At the heart of the NumPy package, is the ndarray object. This encapsulates n-dimensional arrays of homogeneous data types, with many operations being performed in compiled code for performance. There are several important differences between NumPy arrays and the standard Python sequences:\n",
    "\n",
    "NumPy arrays have a fixed size at creation, unlike Python lists (which can grow dynamically). Changing the size of an ndarray will create a new array and delete the original.\n",
    "The elements in a NumPy array are all required to be of the same data type, and thus will be the same size in memory. The exception: one can have arrays of (Python, including NumPy) objects, thereby allowing for arrays of different sized elements.\n",
    "NumPy arrays facilitate advanced mathematical and other types of operations on large numbers of data. Typically, such operations are executed more efficiently and with less code than is possible using Python’s built-in sequences.\n",
    "A growing plethora of scientific and mathematical Python-based packages are using NumPy arrays; though these typically support Python-sequence input, they convert such input to NumPy arrays prior to processing, and they often output NumPy arrays. In other words, in order to efficiently use much (perhaps even most) of today’s scientific/mathematical Python-based software, just knowing how to use Python’s built-in sequence types is insufficient - one also needs to know how to use NumPy arrays.\n",
    "\n",
    "Basically the above detailed explanation from the Numpy documentation is saying that Numpy is really good at generating numbers and dealing with numbers in long lists in python. For example if you were seeking to do some work with matrices within python one could code them up but would probably run into errors when runnning the code and would be inefficient. Numpy can mock up the data way more efficiently.\n",
    "\n",
    "Numpy is a specialist package that deals with multi dimensional arrays( which are lists within lists). Numpy likes two dimensional lists where each column and each row has the same number of elements. It can createa arrays with more than two dimensions but typically it could just be dealing with two arrays. For example numpy would not like the Iris data set as the data set has both numbers and text included in the array. Pandas can deal with this type of data more efficiently. It is very commmon when working with data to start and import a .csv file into numpy or pandas which would then use numpy in the background.\n",
    "\n",
    "NumPy is also very good for generating random simple data. If you were not able to collect the data but you wanted to pretend that you did to examine it or test some fuctions then the numpy package can generate random numbers that follow a certain pattern. Again we generally do not use numpy directly but the generation of random simple data would be covered by the numpy.random functions within which there are multiple sections and functions which will be discussed in more detail throughout this notebook. \n",
    "Real world examples of where numpy is used is where matrix operations are used for example in the re-sizing of photos.\n",
    "\n",
    "\n"
   ]
  },
  {
   "cell_type": "markdown",
   "metadata": {},
   "source": [
    "# Explain the use of the \"Simple random data\" and \"Permutations\" functions\n",
    "\n",
    "### Simple Random Data\n",
    "This section is for use if one just wants to generate some random data for every day purposes there will be a suitable function within this section or package. \n",
    "It is important to note that there are assumptions made within these functions as to the type of data that you want to generate. The functions within the Simple Random Data section are based on certain functions in another section called \"Distributions\".\n",
    "\n",
    "The numpy documentation states that \"When we require simple random data to be chosen and provided to us we can use the Simple Random Data features of numPy\" There are many functions there to chose from depending on what sample is required. This list is taken from the numPy documentation.\n",
    "\n",
    "rand(d0, d1, …, dn)\tRandom values in a given shape.\n",
    "randn(d0, d1, …, dn)\tReturn a sample (or samples) from the “standard normal” distribution.\n",
    "randint(low[, high, size, dtype])\tReturn random integers from low (inclusive) to high (exclusive).\n",
    "random_integers(low[, high, size])\tRandom integers of type np.int between low and high, inclusive.\n",
    "random_sample([size])\tReturn random floats in the half-open interval [0.0, 1.0).\n",
    "random([size])\tReturn random floats in the half-open interval [0.0, 1.0).\n",
    "ranf([size])\tReturn random floats in the half-open interval [0.0, 1.0).\n",
    "sample([size])\tReturn random floats in the half-open interval [0.0, 1.0).\n",
    "choice(a[, size, replace, p])\tGenerates a random sample from a given 1-D array\n",
    "bytes(length)\tReturn random bytes.\n",
    "\n"
   ]
  },
  {
   "cell_type": "code",
   "execution_count": 7,
   "metadata": {},
   "outputs": [],
   "source": [
    "import numpy as np #importing the numpy package"
   ]
  },
  {
   "cell_type": "code",
   "execution_count": 10,
   "metadata": {},
   "outputs": [
    {
     "data": {
      "text/plain": [
       "array([[0.12139885, 0.46778618, 0.69982077, 0.80745375, 0.75158675],\n",
       "       [0.07278158, 0.91615798, 0.50941054, 0.65323997, 0.23974396],\n",
       "       [0.05493753, 0.72001483, 0.24427923, 0.91528606, 0.22237245],\n",
       "       [0.55881366, 0.22811051, 0.24635127, 0.56011544, 0.81613532]])"
      ]
     },
     "execution_count": 10,
     "metadata": {},
     "output_type": "execute_result"
    }
   ],
   "source": [
    "np.random.rand(4,5) #creating an array that has columns and 5 lines of data using the rand function\n"
   ]
  },
  {
   "cell_type": "code",
   "execution_count": 11,
   "metadata": {},
   "outputs": [
    {
     "data": {
      "text/plain": [
       "array([1, 1, 1, 1, 1, 1, 1, 1, 1, 0])"
      ]
     },
     "execution_count": 11,
     "metadata": {},
     "output_type": "execute_result"
    }
   ],
   "source": [
    "# Exaple of using the randint fucnction. This generates random integers from low to high\n",
    "np.random.randint(2, size=10) #generating a selection of 10 random numbera between 0-2 "
   ]
  },
  {
   "cell_type": "markdown",
   "metadata": {},
   "source": [
    "When creating random numbers using this function, it can be expanded to include a number of arrays"
   ]
  },
  {
   "cell_type": "code",
   "execution_count": 19,
   "metadata": {},
   "outputs": [
    {
     "data": {
      "text/plain": [
       "array([[3, 3, 3, 3],\n",
       "       [3, 4, 4, 2]])"
      ]
     },
     "execution_count": 19,
     "metadata": {},
     "output_type": "execute_result"
    }
   ],
   "source": [
    "np.random.randint(5, size=(2, 4)) # Generate a 2 x 4 array of ints between 0 and 4, inclusive:"
   ]
  },
  {
   "cell_type": "markdown",
   "metadata": {},
   "source": [
    "Another popular numpy.random function with the simple random data is the random sample. This will return random floats in the half open interval."
   ]
  },
  {
   "cell_type": "code",
   "execution_count": 2,
   "metadata": {},
   "outputs": [],
   "source": [
    "import numpy as np"
   ]
  },
  {
   "cell_type": "code",
   "execution_count": 3,
   "metadata": {},
   "outputs": [
    {
     "data": {
      "text/plain": [
       "array([0.02507659, 0.00191883, 0.28761782, 0.63620465, 0.53822947])"
      ]
     },
     "execution_count": 3,
     "metadata": {},
     "output_type": "execute_result"
    }
   ],
   "source": [
    "np.random.random_sample((5,)) # askng for 5 random samples "
   ]
  },
  {
   "cell_type": "markdown",
   "metadata": {},
   "source": [
    "# Permutations Functions\n",
    "\n",
    "This section has only two functions called Shuffle and Permutations functions.\n",
    "Permutations are another subset of functions within the numpy package within the numpy random function. \n",
    "Permutations involve taking a specific number of items from an available group or set and seeing how many different ways the items can be selected and then arranged.\n",
    "Both of these do similiar functions but the shuffle function changes what you pass into the array, whereas the permutations function does not actually change what you pass into it.\n",
    "\n",
    "For instance, if you choose three letters from the set {a, r, s, t} and arrange them as many ways as possible, you get the arrangements of {a, r, s}: ars, asr, ras, rsa, sar, and sra; the arrangements of {a, r, t}: art, atr, rat, rta, tar, and tra; and the arrangements of {a, s, t}: ast, ats, sat, sta, tas, and tsa; and the arrangements of {r, s, t}: rst, rts, srt, str, trs, and tsr.\n",
    "\n",
    "The number of permutations is 24. ( https://www.dummies.com/education/math/algebra/permutations-when-order-matters/)\n",
    "\n",
    "Within the numpy package the permutations function the function outlined below makes a copy and randomly shuffles the elements."
   ]
  },
  {
   "cell_type": "code",
   "execution_count": 3,
   "metadata": {
    "scrolled": true
   },
   "outputs": [
    {
     "data": {
      "text/plain": [
       "array([1, 7, 3, 8, 9, 4, 2, 6, 5, 0])"
      ]
     },
     "execution_count": 3,
     "metadata": {},
     "output_type": "execute_result"
    }
   ],
   "source": [
    "import numpy as np\n",
    "np.random.permutation(10) # output all the number up to ten in random order."
   ]
  },
  {
   "cell_type": "code",
   "execution_count": 4,
   "metadata": {},
   "outputs": [
    {
     "data": {
      "text/plain": [
       "array([[3, 4, 5],\n",
       "       [0, 1, 2],\n",
       "       [6, 7, 8]])"
      ]
     },
     "execution_count": 4,
     "metadata": {},
     "output_type": "execute_result"
    }
   ],
   "source": [
    "import numpy as np\n",
    "arr = np.arange(9).reshape((3, 3)) # with number up to 9, arange them in a 3x3 dimensional array\n",
    "np.random.permutation(arr) # output the array with random arrangement"
   ]
  },
  {
   "cell_type": "markdown",
   "metadata": {},
   "source": [
    "# Shuffle Function\n",
    "Another function with permutations is the shuffle function. This function only shuffles the array along the first axis of a multi-dimensional array. The order of sub-arrays is changed but their contents remains the same."
   ]
  },
  {
   "cell_type": "code",
   "execution_count": 5,
   "metadata": {},
   "outputs": [
    {
     "data": {
      "text/plain": [
       "array([0, 2, 1, 9, 5, 4, 6, 8, 3, 7])"
      ]
     },
     "execution_count": 5,
     "metadata": {},
     "output_type": "execute_result"
    }
   ],
   "source": [
    "arr = np.arange(10)\n",
    "np.random.shuffle(arr)\n",
    "arr"
   ]
  },
  {
   "cell_type": "markdown",
   "metadata": {},
   "source": [
    "# Distributions Function\n",
    "The following section outlines the use and purpose of 5 of the Distributions Function within the numpy package.\n",
    "\n",
    "# Binomial Function\n",
    "According to the numpy documentation the binomial function is defined as \"drawing samples from binomial distribution\".\n",
    "(https://docs.scipy.org/doc/numpy/reference/routines.random.html)\n",
    "A random variable X that has a binomial distribution represents the number of successes in a sequence of n independent yes/no trials, each of which yields success with probability p.(https://bigdata-madesimple.com/how-to-implement-these-5-powerful-probability-distributions-in-python/)\n",
    "\n",
    "Example of binomial distribution: What is the probability of getting 2 heads out of 10 flips of a fair coin? \n",
    "In this experiment the probability of getting a head is 0.3,  this means that on an average you can expect 3 coin flips to be heads. I define all the possible values the coin flip can take, k = np.arange(0,11), you can observe zero head, one head all the way upto ten heads. I am using stats.binom.pmf  to calculate the probability mass function for each observation. It returns a list of 11 elements, these elements represent the probability associated with each observation.\n",
    "\n",
    "\n"
   ]
  },
  {
   "cell_type": "code",
   "execution_count": 8,
   "metadata": {},
   "outputs": [
    {
     "data": {
      "text/plain": [
       "array([6, 5, 3, 4, 5, 2, 6, 5, 5, 6, 3, 5, 2, 4, 3, 7, 4, 5, 2, 3, 6, 5,\n",
       "       3, 5, 6, 5, 6, 4, 5, 5, 5, 4, 6, 4, 5, 7, 5, 2, 7, 3, 7, 5, 6, 8,\n",
       "       4, 4, 6, 3, 5, 4, 6, 3, 3, 4, 4, 4, 6, 6, 5, 3, 3, 6, 5, 5, 4, 3,\n",
       "       9, 9, 7, 7, 9, 7, 3, 3, 7, 6, 4, 6, 4, 5, 7, 6, 7, 6, 5, 3, 5, 7,\n",
       "       4, 4, 3, 3, 5, 7, 5, 5, 4, 6, 4, 3, 7, 6, 6, 4, 7, 6, 6, 6, 5, 7,\n",
       "       4, 4, 3, 4, 5, 8, 6, 5, 3, 7, 5, 4, 5, 7, 6, 4, 3, 6, 3, 6, 4, 4,\n",
       "       5, 6, 6, 9, 5, 6, 5, 5, 4, 5, 6, 4, 5, 6, 7, 5, 5, 7, 5, 5, 4, 7,\n",
       "       5, 3, 8, 4, 6, 2, 5, 2, 4, 7, 4, 6, 5, 4, 6, 6, 8, 4, 8, 3, 7, 5,\n",
       "       5, 7, 4, 6, 4, 6, 5, 4, 5, 3, 6, 7, 4, 2, 8, 2, 6, 3, 3, 7, 6, 3,\n",
       "       5, 3, 5, 4, 2, 7, 4, 4, 5, 5, 3, 6, 4, 6, 6, 3, 3, 5, 4, 6, 5, 4,\n",
       "       6, 5, 3, 5, 3, 6, 5, 7, 4, 5, 5, 3, 2, 3, 7, 6, 8, 2, 6, 6, 6, 7,\n",
       "       6, 5, 6, 7, 4, 5, 3, 6, 3, 6, 6, 4, 4, 7, 6, 8, 7, 3, 3, 3, 7, 4,\n",
       "       5, 4, 5, 4, 7, 7, 2, 7, 6, 2, 6, 3, 4, 7, 6, 6, 4, 8, 6, 3, 8, 6,\n",
       "       5, 7, 7, 5, 7, 4, 6, 3, 5, 5, 1, 5, 6, 4, 5, 5, 3, 4, 5, 7, 3, 4,\n",
       "       6, 6, 7, 4, 4, 4, 7, 3, 4, 6, 6, 4, 5, 4, 6, 5, 5, 5, 4, 6, 5, 4,\n",
       "       2, 6, 6, 4, 7, 6, 5, 4, 4, 4, 5, 7, 5, 8, 7, 5, 6, 4, 6, 5, 0, 8,\n",
       "       5, 4, 7, 5, 5, 6, 2, 5, 6, 6, 7, 4, 7, 5, 2, 5, 8, 3, 5, 3, 3, 3,\n",
       "       4, 4, 7, 5, 8, 5, 4, 3, 5, 5, 4, 2, 3, 6, 4, 6, 5, 4, 3, 3, 5, 5,\n",
       "       3, 3, 4, 5, 7, 3, 3, 6, 2, 5, 5, 6, 5, 4, 8, 2, 5, 4, 5, 4, 4, 6,\n",
       "       5, 6, 6, 3, 4, 5, 4, 4, 3, 4, 5, 3, 5, 7, 4, 4, 5, 4, 4, 4, 3, 4,\n",
       "       4, 4, 3, 6, 5, 2, 4, 4, 7, 5, 7, 5, 3, 4, 4, 5, 6, 5, 6, 6, 4, 6,\n",
       "       4, 7, 5, 6, 6, 6, 3, 4, 8, 7, 4, 5, 6, 2, 5, 3, 6, 7, 4, 3, 3, 6,\n",
       "       3, 4, 5, 9, 4, 9, 5, 4, 5, 5, 4, 6, 8, 7, 6, 3, 5, 3, 4, 5, 7, 8,\n",
       "       6, 8, 6, 7, 3, 6, 5, 4, 6, 6, 3, 6, 4, 2, 9, 6, 6, 4, 5, 3, 5, 7,\n",
       "       6, 3, 4, 6, 3, 6, 5, 6, 6, 2, 5, 4, 5, 7, 2, 5, 4, 3, 6, 5, 6, 5,\n",
       "       3, 4, 5, 9, 6, 1, 1, 3, 6, 6, 5, 6, 5, 4, 5, 7, 5, 5, 2, 5, 4, 5,\n",
       "       5, 5, 3, 4, 5, 2, 3, 6, 4, 4, 4, 4, 6, 5, 5, 4, 6, 8, 3, 7, 5, 4,\n",
       "       3, 7, 3, 5, 3, 5, 5, 6, 6, 8, 5, 6, 6, 3, 6, 5, 6, 6, 5, 4, 1, 4,\n",
       "       2, 1, 7, 7, 5, 7, 4, 6, 6, 2, 4, 4, 1, 5, 6, 5, 7, 3, 3, 4, 3, 5,\n",
       "       4, 4, 5, 5, 3, 6, 3, 5, 9, 4, 5, 5, 4, 5, 6, 2, 5, 4, 7, 3, 5, 6,\n",
       "       7, 6, 3, 2, 6, 5, 6, 6, 4, 5, 5, 6, 4, 4, 4, 3, 2, 5, 4, 4, 7, 4,\n",
       "       5, 5, 7, 3, 8, 7, 3, 6, 7, 6, 5, 4, 5, 6, 6, 3, 5, 4, 4, 7, 3, 1,\n",
       "       3, 4, 5, 5, 4, 5, 9, 6, 5, 6, 6, 5, 5, 7, 4, 1, 5, 4, 5, 5, 7, 7,\n",
       "       5, 6, 3, 4, 3, 6, 5, 6, 5, 7, 7, 5, 6, 3, 5, 2, 5, 5, 9, 7, 5, 6,\n",
       "       4, 5, 2, 4, 7, 8, 6, 5, 2, 6, 3, 4, 5, 5, 4, 6, 4, 6, 6, 6, 6, 6,\n",
       "       3, 7, 3, 5, 5, 4, 6, 5, 3, 4, 4, 6, 5, 4, 7, 4, 5, 4, 7, 7, 7, 4,\n",
       "       5, 3, 4, 4, 8, 2, 7, 8, 6, 7, 4, 8, 5, 6, 6, 4, 5, 5, 4, 2, 5, 4,\n",
       "       3, 5, 5, 6, 8, 6, 0, 4, 5, 6, 6, 3, 3, 3, 5, 8, 6, 5, 3, 4, 6, 1,\n",
       "       5, 8, 7, 6, 5, 4, 4, 4, 4, 6, 5, 8, 0, 4, 4, 6, 8, 5, 7, 6, 6, 6,\n",
       "       3, 6, 4, 5, 7, 6, 4, 4, 6, 6, 4, 3, 5, 4, 4, 5, 6, 4, 6, 8, 5, 1,\n",
       "       5, 6, 4, 6, 4, 6, 7, 4, 4, 7, 2, 4, 8, 2, 6, 7, 4, 4, 6, 4, 5, 5,\n",
       "       6, 6, 6, 4, 6, 4, 4, 1, 8, 3, 5, 2, 4, 5, 6, 8, 4, 8, 4, 4, 4, 6,\n",
       "       5, 6, 2, 8, 6, 5, 4, 4, 5, 5, 3, 3, 6, 3, 4, 3, 5, 7, 5, 4, 5, 6,\n",
       "       3, 4, 1, 5, 3, 8, 6, 3, 4, 7, 1, 5, 8, 5, 3, 3, 2, 3, 3, 3, 1, 4,\n",
       "       4, 5, 4, 6, 3, 3, 6, 6, 4, 9, 3, 5, 5, 4, 6, 7, 4, 4, 4, 4, 6, 2,\n",
       "       5, 3, 6, 5, 5, 5, 3, 1, 7, 9])"
      ]
     },
     "execution_count": 8,
     "metadata": {},
     "output_type": "execute_result"
    }
   ],
   "source": [
    "n, p = 10, .5  # number of trials, probability of each trial\n",
    "s = np.random.binomial(n, p, 1000) #result of flipping a coin 10 times, tested 1000 times.\n",
    "s"
   ]
  },
  {
   "cell_type": "markdown",
   "metadata": {},
   "source": [
    "# Poisson Distribution\n",
    "\n",
    "A random variable X that has a Poisson distribution represents the number of events occurring in a fixed time interval with a rate parameters λ. λ tells you the rate at which the number of events occur.  The average and variance is λ.\n",
    "\n",
    "\n",
    "\n",
    "\n",
    "(https://bigdata-madesimple.com/how-to-implement-these-5-powerful-probability-distributions-in-python/)\n"
   ]
  },
  {
   "cell_type": "code",
   "execution_count": 3,
   "metadata": {},
   "outputs": [
    {
     "data": {
      "text/plain": [
       "<matplotlib.figure.Figure at 0xef969161d0>"
      ]
     },
     "metadata": {},
     "output_type": "display_data"
    }
   ],
   "source": [
    "import numpy as np\n",
    "s = np.random.poisson(5, 10000)\n",
    "\n",
    "import matplotlib.pyplot as plt\n",
    "count, bins, ignored = plt.hist(s, 14, density=True)\n",
    "plt.show()"
   ]
  },
  {
   "cell_type": "markdown",
   "metadata": {},
   "source": [
    "# Normal Distribution\n",
    "\n",
    "Draw random samples from a normal (Gaussian) distribution.\n",
    "\n",
    "The probability density function of the normal distribution, first derived by De Moivre and 200 years later by both Gauss and Laplace independently,is often called the bell curve because of its characteristic shape.\n",
    "\n",
    "The normal distributions occurs often in nature. For example, it describes the commonly occurring distribution of samples influenced by a large number of tiny, random disturbances, each with its own unique distribution "
   ]
  }
 ],
 "metadata": {
  "kernelspec": {
   "display_name": "Python 3",
   "language": "python",
   "name": "python3"
  },
  "language_info": {
   "codemirror_mode": {
    "name": "ipython",
    "version": 3
   },
   "file_extension": ".py",
   "mimetype": "text/x-python",
   "name": "python",
   "nbconvert_exporter": "python",
   "pygments_lexer": "ipython3",
   "version": "3.6.4"
  }
 },
 "nbformat": 4,
 "nbformat_minor": 2
}
